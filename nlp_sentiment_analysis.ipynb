{
 "cells": [
  {
   "cell_type": "code",
   "execution_count": 1,
   "id": "5a2b596b-8ca4-45f7-9c1c-10a69b11e002",
   "metadata": {},
   "outputs": [
    {
     "name": "stdout",
     "output_type": "stream",
     "text": [
      "x_train type: <class 'numpy.ndarray'>\n",
      "y_train type: <class 'numpy.ndarray'>\n",
      "x_test type: <class 'numpy.ndarray'>\n",
      "y_test type: <class 'numpy.ndarray'>\n",
      "x_train[0] type: <class 'numpy.ndarray'> shape: (500,)\n",
      "y_train[0] type: <class 'numpy.int64'>\n"
     ]
    }
   ],
   "source": [
    "import numpy as np\n",
    "from tensorflow.keras.datasets import imdb\n",
    "from tensorflow.keras.preprocessing.sequence import pad_sequences\n",
    "from tensorflow.keras.models import Sequential\n",
    "from tensorflow.keras.layers import Embedding, LSTM, Dense\n",
    "\n",
    "np.random.seed(42)\n",
    "\n",
    "top_words = 5000\n",
    "\n",
    "(x_train, y_train), (x_test, y_test) = imdb.load_data(num_words=top_words)\n",
    "\n",
    "max_review_length = 500\n",
    "\n",
    "x_train = pad_sequences(x_train, maxlen=max_review_length)\n",
    "x_test = pad_sequences(x_test, maxlen=max_review_length)\n",
    "\n",
    "x_train = np.array(x_train)\n",
    "x_test = np.array(x_test)\n",
    "\n",
    "y_train = np.array(y_train)\n",
    "y_test = np.array(y_test)\n",
    "\n",
    "print(\"x_train type:\", type(x_train))\n",
    "print(\"y_train type:\", type(y_train))\n",
    "print(\"x_test type:\", type(x_test))\n",
    "print(\"y_test type:\", type(y_test))\n",
    "\n",
    "print(\"x_train[0] type:\", type(x_train[0]), \"shape:\", x_train[0].shape)\n",
    "print(\"y_train[0] type:\", type(y_train[0]))"
   ]
  },
  {
   "cell_type": "code",
   "execution_count": 3,
   "id": "b6218eba-3ff3-4846-beb4-6c6e5fd1d365",
   "metadata": {},
   "outputs": [],
   "source": [
    "embedding_vector_length = 35\n",
    "model = Sequential()\n",
    "model.add(Embedding(top_words,embedding_vector_length, input_length=max_review_length))"
   ]
  },
  {
   "cell_type": "code",
   "execution_count": 1,
   "id": "946e1765-fafb-4bc2-8635-e1e560ac505a",
   "metadata": {},
   "outputs": [
    {
     "ename": "NameError",
     "evalue": "name 'model' is not defined",
     "output_type": "error",
     "traceback": [
      "\u001b[1;31m---------------------------------------------------------------------------\u001b[0m",
      "\u001b[1;31mNameError\u001b[0m                                 Traceback (most recent call last)",
      "Cell \u001b[1;32mIn[1], line 1\u001b[0m\n\u001b[1;32m----> 1\u001b[0m \u001b[43mmodel\u001b[49m\u001b[38;5;241m.\u001b[39madd(LSTM(\u001b[38;5;241m100\u001b[39m))\n\u001b[0;32m      2\u001b[0m model\u001b[38;5;241m.\u001b[39madd(Dense(\u001b[38;5;241m1\u001b[39m,activation\u001b[38;5;241m=\u001b[39m\u001b[38;5;124m'\u001b[39m\u001b[38;5;124msigmoid\u001b[39m\u001b[38;5;124m'\u001b[39m))\n",
      "\u001b[1;31mNameError\u001b[0m: name 'model' is not defined"
     ]
    }
   ],
   "source": [
    "model.add(LSTM(100))\n",
    "model.add(Dense(1,activation='sigmoid'))\n"
   ]
  },
  {
   "cell_type": "code",
   "execution_count": 8,
   "id": "0149a41a-91f5-4fda-a7be-484e185d2e2f",
   "metadata": {},
   "outputs": [
    {
     "name": "stdout",
     "output_type": "stream",
     "text": [
      "Epoch 1/3\n",
      "391/391 [==============================] - 123s 222ms/step - loss: 0.5272 - accuracy: 0.7378 - val_loss: 0.3702 - val_accuracy: 0.8412\n",
      "Epoch 2/3\n",
      "391/391 [==============================] - 81s 208ms/step - loss: 0.3120 - accuracy: 0.8705 - val_loss: 0.3124 - val_accuracy: 0.8718\n",
      "Epoch 3/3\n",
      "391/391 [==============================] - 85s 217ms/step - loss: 0.2489 - accuracy: 0.9025 - val_loss: 0.3082 - val_accuracy: 0.8768\n"
     ]
    },
    {
     "data": {
      "text/plain": [
       "<keras.callbacks.History at 0x29fd2533ee0>"
      ]
     },
     "execution_count": 8,
     "metadata": {},
     "output_type": "execute_result"
    }
   ],
   "source": [
    "model.compile(loss='binary_crossentropy',optimizer='adam',metrics=['accuracy'])\n",
    "model.fit(x_train,y_train,validation_data=(x_test,y_test),epochs=3,batch_size=64)\n",
    "\n"
   ]
  },
  {
   "cell_type": "code",
   "execution_count": 11,
   "id": "94ecb9f3-4928-429a-a298-635342a2af1b",
   "metadata": {},
   "outputs": [],
   "source": [
    "import tensorflow as tf\n",
    "tf.debugging.set_log_device_placement(True)"
   ]
  },
  {
   "cell_type": "code",
   "execution_count": 12,
   "id": "c09f0573-8ea6-4169-b4dd-c518b8fa455f",
   "metadata": {},
   "outputs": [
    {
     "name": "stdout",
     "output_type": "stream",
     "text": [
      "Accuracy: 87.68%\n"
     ]
    }
   ],
   "source": [
    "scores = model.evaluate(x_test, y_test, verbose=0)\n",
    "print(\"Accuracy: %.2f%%\" % (scores[1] * 100))"
   ]
  },
  {
   "cell_type": "code",
   "execution_count": null,
   "id": "6be2fd1f-a3cf-4475-aec1-aceb9ddee5b2",
   "metadata": {},
   "outputs": [],
   "source": []
  },
  {
   "cell_type": "code",
   "execution_count": null,
   "id": "fe560d0b-6d92-453d-87a1-d3c474439ac0",
   "metadata": {},
   "outputs": [],
   "source": []
  },
  {
   "cell_type": "code",
   "execution_count": null,
   "id": "8bbf1b48-66df-46b0-acb5-bce703d6c4c0",
   "metadata": {},
   "outputs": [],
   "source": []
  }
 ],
 "metadata": {
  "kernelspec": {
   "display_name": "py310",
   "language": "python",
   "name": "py310"
  },
  "language_info": {
   "codemirror_mode": {
    "name": "ipython",
    "version": 3
   },
   "file_extension": ".py",
   "mimetype": "text/x-python",
   "name": "python",
   "nbconvert_exporter": "python",
   "pygments_lexer": "ipython3",
   "version": "3.10.14"
  }
 },
 "nbformat": 4,
 "nbformat_minor": 5
}
